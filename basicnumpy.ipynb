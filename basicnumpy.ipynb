{
  "nbformat": 4,
  "nbformat_minor": 0,
  "metadata": {
    "colab": {
      "provenance": [],
      "authorship_tag": "ABX9TyP784rvuULRS/qHLlJ/qH8+",
      "include_colab_link": true
    },
    "kernelspec": {
      "name": "python3",
      "display_name": "Python 3"
    },
    "language_info": {
      "name": "python"
    }
  },
  "cells": [
    {
      "cell_type": "markdown",
      "metadata": {
        "id": "view-in-github",
        "colab_type": "text"
      },
      "source": [
        "<a href=\"https://colab.research.google.com/github/subhu6371/apnacollege-demo/blob/main/basicnumpy.ipynb\" target=\"_parent\"><img src=\"https://colab.research.google.com/assets/colab-badge.svg\" alt=\"Open In Colab\"/></a>"
      ]
    },
    {
      "cell_type": "code",
      "execution_count": null,
      "metadata": {
        "colab": {
          "base_uri": "https://localhost:8080/"
        },
        "id": "2nj7WXKe6DEO",
        "outputId": "c6cca7ce-ee19-4a4a-96af-d93147e541a1"
      },
      "outputs": [
        {
          "output_type": "stream",
          "name": "stdout",
          "text": [
            "(2, 3)\n"
          ]
        }
      ],
      "source": [
        "import numpy as np\n",
        "arr_2d=np.array([[1,2,3],[4,5,6]])\n",
        "print(arr_2d.shape)"
      ]
    },
    {
      "cell_type": "code",
      "source": [
        "import numpy as np\n",
        "arr_2d=np.array([[1,2,3],[4,5,6]])\n",
        "print(arr_2d.size)"
      ],
      "metadata": {
        "colab": {
          "base_uri": "https://localhost:8080/"
        },
        "id": "jnENeIrn9FMF",
        "outputId": "61570188-7755-4003-8f9c-20e7d3a36323"
      },
      "execution_count": 1,
      "outputs": [
        {
          "output_type": "stream",
          "name": "stdout",
          "text": [
            "6\n"
          ]
        }
      ]
    },
    {
      "cell_type": "code",
      "source": [
        "import numpy as np\n",
        "arr_3d=np.array([[[1,2,3],[4,5,6],[7,8,9]]])\n",
        "print(arr_3d.ndim)"
      ],
      "metadata": {
        "id": "jodqpqu07dyY",
        "colab": {
          "base_uri": "https://localhost:8080/"
        },
        "outputId": "347fc0a0-12d2-4844-b329-2aefdc1bbc33"
      },
      "execution_count": 4,
      "outputs": [
        {
          "output_type": "stream",
          "name": "stdout",
          "text": [
            "3\n"
          ]
        }
      ]
    },
    {
      "cell_type": "markdown",
      "source": [
        ".dtype returns the datatype"
      ],
      "metadata": {
        "id": "jrwgjDoV-r6s"
      }
    },
    {
      "cell_type": "markdown",
      "source": [
        ".dtype returns the data type(if any one float number is stored in the array then the datatype will be float"
      ],
      "metadata": {
        "id": "5VOaMtpB_GXn"
      }
    },
    {
      "cell_type": "code",
      "source": [
        "import numpy as np\n",
        "arr=np.array([1.2,3.2,4.8])\n",
        "int_arr=arr.astype(int)\n",
        "print(int_arr)\n",
        "print(int_arr.dtype)"
      ],
      "metadata": {
        "colab": {
          "base_uri": "https://localhost:8080/"
        },
        "id": "b9Jpm6yiAF3j",
        "outputId": "3414bdf1-688b-495e-c37c-cfac62af5296"
      },
      "execution_count": 5,
      "outputs": [
        {
          "output_type": "stream",
          "name": "stdout",
          "text": [
            "[1 3 4]\n",
            "int64\n"
          ]
        }
      ]
    },
    {
      "cell_type": "code",
      "source": [
        "import numpy as np\n",
        "arr_op=np.array([10,20,30])\n",
        "print(arr_op+ 5)\n",
        "print(arr_op*2)\n",
        "print(arr_op**2)"
      ],
      "metadata": {
        "colab": {
          "base_uri": "https://localhost:8080/"
        },
        "id": "NOIhAuJjAryB",
        "outputId": "f986c256-d642-4860-ffd0-3d80f155ddd9"
      },
      "execution_count": 10,
      "outputs": [
        {
          "output_type": "stream",
          "name": "stdout",
          "text": [
            "[15 25 35]\n",
            "[20 40 60]\n",
            "[100 400 900]\n"
          ]
        }
      ]
    },
    {
      "cell_type": "markdown",
      "source": [
        "AGGREGATION FUNCTION"
      ],
      "metadata": {
        "id": "iE_R32smCnpD"
      }
    },
    {
      "cell_type": "code",
      "source": [
        "import numpy as np\n",
        "arr_op=np.array([10,20,30])\n",
        "print(np.sum(arr_op))\n",
        "print(np.min(arr_op))\n",
        "print(np.max(arr_op))\n",
        "print(np.mean(arr_op))\n",
        "print(np.median(arr_op))"
      ],
      "metadata": {
        "colab": {
          "base_uri": "https://localhost:8080/"
        },
        "id": "rU0XUpBiCzcR",
        "outputId": "8b3e2e7f-f85b-4ec6-ec71-c1d7b6914450"
      },
      "execution_count": 12,
      "outputs": [
        {
          "output_type": "stream",
          "name": "stdout",
          "text": [
            "60\n",
            "10\n",
            "30\n",
            "20.0\n",
            "20.0\n"
          ]
        }
      ]
    },
    {
      "cell_type": "markdown",
      "source": [
        "INDEXING AND SLICING"
      ],
      "metadata": {
        "id": "5p27D1oyEshD"
      }
    },
    {
      "cell_type": "code",
      "source": [],
      "metadata": {
        "id": "d5NC-hnIE0ML"
      },
      "execution_count": null,
      "outputs": []
    }
  ]
}