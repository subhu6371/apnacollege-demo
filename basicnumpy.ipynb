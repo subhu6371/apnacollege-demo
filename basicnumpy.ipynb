{
  "nbformat": 4,
  "nbformat_minor": 0,
  "metadata": {
    "colab": {
      "provenance": [],
      "authorship_tag": "ABX9TyPgFU8Q8jPEyqf6JegRRlBs",
      "include_colab_link": true
    },
    "kernelspec": {
      "name": "python3",
      "display_name": "Python 3"
    },
    "language_info": {
      "name": "python"
    }
  },
  "cells": [
    {
      "cell_type": "markdown",
      "metadata": {
        "id": "view-in-github",
        "colab_type": "text"
      },
      "source": [
        "<a href=\"https://colab.research.google.com/github/subhu6371/apnacollege-demo/blob/main/basicnumpy.ipynb\" target=\"_parent\"><img src=\"https://colab.research.google.com/assets/colab-badge.svg\" alt=\"Open In Colab\"/></a>"
      ]
    },
    {
      "cell_type": "code",
      "execution_count": null,
      "metadata": {
        "colab": {
          "base_uri": "https://localhost:8080/"
        },
        "id": "2nj7WXKe6DEO",
        "outputId": "c6cca7ce-ee19-4a4a-96af-d93147e541a1"
      },
      "outputs": [
        {
          "output_type": "stream",
          "name": "stdout",
          "text": [
            "(2, 3)\n"
          ]
        }
      ],
      "source": [
        "import numpy as np\n",
        "arr_2d=np.array([[1,2,3],[4,5,6]])\n",
        "print(arr_2d.shape)"
      ]
    },
    {
      "cell_type": "code",
      "source": [
        "import numpy as np\n",
        "arr_2d=np.array([[1,2,3],[4,5,6]])\n",
        "print(arr_2d.size)"
      ],
      "metadata": {
        "colab": {
          "base_uri": "https://localhost:8080/"
        },
        "id": "jnENeIrn9FMF",
        "outputId": "61570188-7755-4003-8f9c-20e7d3a36323"
      },
      "execution_count": null,
      "outputs": [
        {
          "output_type": "stream",
          "name": "stdout",
          "text": [
            "6\n"
          ]
        }
      ]
    },
    {
      "cell_type": "code",
      "source": [
        "import numpy as np\n",
        "arr_3d=np.array([[[1,2,3],[4,5,6],[7,8,9]]])\n",
        "print(arr_3d.ndim)"
      ],
      "metadata": {
        "id": "jodqpqu07dyY",
        "colab": {
          "base_uri": "https://localhost:8080/"
        },
        "outputId": "347fc0a0-12d2-4844-b329-2aefdc1bbc33"
      },
      "execution_count": null,
      "outputs": [
        {
          "output_type": "stream",
          "name": "stdout",
          "text": [
            "3\n"
          ]
        }
      ]
    },
    {
      "cell_type": "markdown",
      "source": [
        ".dtype returns the datatype"
      ],
      "metadata": {
        "id": "jrwgjDoV-r6s"
      }
    },
    {
      "cell_type": "markdown",
      "source": [
        ".dtype returns the data type(if any one float number is stored in the array then the datatype will be float"
      ],
      "metadata": {
        "id": "5VOaMtpB_GXn"
      }
    },
    {
      "cell_type": "code",
      "source": [
        "import numpy as np\n",
        "arr=np.array([1.2,3.2,4.8])\n",
        "int_arr=arr.astype(int)\n",
        "print(int_arr)\n",
        "print(int_arr.dtype)"
      ],
      "metadata": {
        "colab": {
          "base_uri": "https://localhost:8080/"
        },
        "id": "b9Jpm6yiAF3j",
        "outputId": "3414bdf1-688b-495e-c37c-cfac62af5296"
      },
      "execution_count": null,
      "outputs": [
        {
          "output_type": "stream",
          "name": "stdout",
          "text": [
            "[1 3 4]\n",
            "int64\n"
          ]
        }
      ]
    },
    {
      "cell_type": "code",
      "source": [
        "import numpy as np\n",
        "arr_op=np.array([10,20,30])\n",
        "print(arr_op+ 5)\n",
        "print(arr_op*2)\n",
        "print(arr_op**2)"
      ],
      "metadata": {
        "colab": {
          "base_uri": "https://localhost:8080/"
        },
        "id": "NOIhAuJjAryB",
        "outputId": "f986c256-d642-4860-ffd0-3d80f155ddd9"
      },
      "execution_count": null,
      "outputs": [
        {
          "output_type": "stream",
          "name": "stdout",
          "text": [
            "[15 25 35]\n",
            "[20 40 60]\n",
            "[100 400 900]\n"
          ]
        }
      ]
    },
    {
      "cell_type": "markdown",
      "source": [
        "AGGREGATION FUNCTION"
      ],
      "metadata": {
        "id": "iE_R32smCnpD"
      }
    },
    {
      "cell_type": "code",
      "source": [
        "import numpy as np\n",
        "arr_op=np.array([10,20,30])\n",
        "print(np.sum(arr_op))\n",
        "print(np.min(arr_op))\n",
        "print(np.max(arr_op))\n",
        "print(np.mean(arr_op))\n",
        "print(np.median(arr_op))"
      ],
      "metadata": {
        "colab": {
          "base_uri": "https://localhost:8080/"
        },
        "id": "rU0XUpBiCzcR",
        "outputId": "8b3e2e7f-f85b-4ec6-ec71-c1d7b6914450"
      },
      "execution_count": null,
      "outputs": [
        {
          "output_type": "stream",
          "name": "stdout",
          "text": [
            "60\n",
            "10\n",
            "30\n",
            "20.0\n",
            "20.0\n"
          ]
        }
      ]
    },
    {
      "cell_type": "markdown",
      "source": [
        "INDEXING AND SLICING"
      ],
      "metadata": {
        "id": "5p27D1oyEshD"
      }
    },
    {
      "cell_type": "code",
      "source": [
        "import numpy as np\n",
        "arrind=np.array([10,20,30,40,50])\n",
        "print(arrind[2])\n",
        "print(arrind[2:4])"
      ],
      "metadata": {
        "id": "d5NC-hnIE0ML",
        "colab": {
          "base_uri": "https://localhost:8080/"
        },
        "outputId": "cc1a4eb6-e71e-4a7d-f086-c9d223c879b2"
      },
      "execution_count": null,
      "outputs": [
        {
          "output_type": "stream",
          "name": "stdout",
          "text": [
            "30\n",
            "[30 40]\n"
          ]
        }
      ]
    },
    {
      "cell_type": "code",
      "source": [
        "#slicing\n",
        "#array[start:stop:step]\n",
        "#array[start:end]\n",
        "import numpy as np\n",
        "arrsli=np.array([10,20,30,40,50,60])\n",
        "print(arrsli[1:4:2])\n",
        "print(arrsli[1:4])\n",
        "print(arrsli[2:])\n",
        "print(arrind[::-1])\n",
        "print(arrsli[:4])\n",
        "print(arrind[::2])"
      ],
      "metadata": {
        "colab": {
          "base_uri": "https://localhost:8080/"
        },
        "id": "Gt7DmjQfGV9z",
        "outputId": "bb5d4782-dbc5-4380-f401-8c9248387742"
      },
      "execution_count": null,
      "outputs": [
        {
          "output_type": "stream",
          "name": "stdout",
          "text": [
            "[20 40]\n",
            "[20 30 40]\n",
            "[30 40 50 60]\n",
            "[50 40 30 20 10]\n",
            "[10 20 30 40]\n",
            "[10 30 50]\n"
          ]
        }
      ]
    },
    {
      "cell_type": "code",
      "source": [
        "#fancy indexing\n",
        "import numpy as np\n",
        "arrsli=np.array([10,20,30,40,50,60])\n",
        "print(arrsli[[1,4,2]])"
      ],
      "metadata": {
        "colab": {
          "base_uri": "https://localhost:8080/"
        },
        "id": "0T983H5WHTs8",
        "outputId": "a99ab38c-3aea-4eb9-9e7d-388418fe0c40"
      },
      "execution_count": null,
      "outputs": [
        {
          "output_type": "stream",
          "name": "stdout",
          "text": [
            "[20 50 30]\n"
          ]
        }
      ]
    },
    {
      "cell_type": "code",
      "source": [
        "#boolean masking\n",
        "import numpy as np\n",
        "arrsli=np.array([10,20,30,40,50,60])\n",
        "print(arrsli[arrsli>30])"
      ],
      "metadata": {
        "colab": {
          "base_uri": "https://localhost:8080/"
        },
        "id": "BUuLIIfyL06M",
        "outputId": "754388a1-832c-40b5-f0a1-d8ab4e5d2c15"
      },
      "execution_count": null,
      "outputs": [
        {
          "output_type": "stream",
          "name": "stdout",
          "text": [
            "[40 50 60]\n"
          ]
        }
      ]
    },
    {
      "cell_type": "markdown",
      "source": [
        "# RESHAPING AND MANIPULATING ARRAYS"
      ],
      "metadata": {
        "id": "7ixXOb1yNAxn"
      }
    },
    {
      "cell_type": "code",
      "source": [
        "#reshape(x.reshape(row,column))\n",
        "import numpy as np\n",
        "arr_2d=np.array([[1,2,3],[4,5,6]])\n",
        "print(arr_2d.reshape(3,2))"
      ],
      "metadata": {
        "colab": {
          "base_uri": "https://localhost:8080/"
        },
        "id": "Dc79KEJFNOxI",
        "outputId": "aabf46f2-0998-44dd-f604-69068362ca7e"
      },
      "execution_count": null,
      "outputs": [
        {
          "output_type": "stream",
          "name": "stdout",
          "text": [
            "[[1 2]\n",
            " [3 4]\n",
            " [5 6]]\n"
          ]
        }
      ]
    },
    {
      "cell_type": "code",
      "source": [
        "import numpy as np\n",
        "rsarr=np.array([10,20,30,40,50,60])\n",
        "print(rsarr.reshape(2,3))"
      ],
      "metadata": {
        "colab": {
          "base_uri": "https://localhost:8080/"
        },
        "id": "Dzl3QCSLOgqD",
        "outputId": "d19aa21d-f50c-474f-ca7e-7c372f419018"
      },
      "execution_count": null,
      "outputs": [
        {
          "output_type": "stream",
          "name": "stdout",
          "text": [
            "[[10 20 30]\n",
            " [40 50 60]]\n"
          ]
        }
      ]
    },
    {
      "cell_type": "code",
      "source": [
        "\"\"\".ravel()-->view\n",
        "   .flatten()-->copy\n",
        "\"\"\"\n",
        "import numpy as np\n",
        "arr_2d=np.array([[1,2,3],[4,5,6]])\n",
        "print(arr_2d.ravel())\n",
        "print(arr_2d.flatten())\n"
      ],
      "metadata": {
        "colab": {
          "base_uri": "https://localhost:8080/"
        },
        "id": "vRr-m5qlPfB9",
        "outputId": "ff4661eb-ba26-4c6e-a165-e07d6b9e7d95"
      },
      "execution_count": null,
      "outputs": [
        {
          "output_type": "stream",
          "name": "stdout",
          "text": [
            "[1 2 3 4 5 6]\n",
            "[1 2 3 4 5 6]\n"
          ]
        }
      ]
    },
    {
      "cell_type": "markdown",
      "source": [
        "## ARRAY MODIFICATION"
      ],
      "metadata": {
        "id": "WYHKyp6zRn1z"
      }
    },
    {
      "cell_type": "code",
      "source": [
        "\"\"\"\n",
        "np.insert(array,index,value,axis=none)\n",
        "array-original array\n",
        "index-\n",
        "value-\n",
        "axis-\n",
        "axis=0-->row\n",
        "axis=1-->column\n",
        "\n",
        "\"\"\"\n",
        "import numpy as np\n",
        "arrin=np.array([10,20,30,40,50,60])\n",
        "new_arr=np.insert(arrin,2,70)\n",
        "print(new_arr)"
      ],
      "metadata": {
        "colab": {
          "base_uri": "https://localhost:8080/"
        },
        "id": "xz2AosCARuc-",
        "outputId": "e4a799e9-c05b-49b0-be8e-00badfec7e41"
      },
      "execution_count": null,
      "outputs": [
        {
          "output_type": "stream",
          "name": "stdout",
          "text": [
            "[10 20 70 30 40 50 60]\n"
          ]
        }
      ]
    },
    {
      "cell_type": "code",
      "source": [
        "#for 2d\n",
        "import numpy as np\n",
        "arr2d=np.array([[1,2],[3,4]])\n",
        "newarr2d=np.insert(arr2d,1,[5,6],axis=0)\n",
        "print(newarr2d)"
      ],
      "metadata": {
        "colab": {
          "base_uri": "https://localhost:8080/"
        },
        "id": "5L4f0N76VBic",
        "outputId": "389c1eda-9ee2-45ad-82e5-ef7b959bca35"
      },
      "execution_count": null,
      "outputs": [
        {
          "output_type": "stream",
          "name": "stdout",
          "text": [
            "[[1 2]\n",
            " [5 6]\n",
            " [3 4]]\n"
          ]
        }
      ]
    },
    {
      "cell_type": "code",
      "source": [
        "#APPEND add at last\n",
        "import numpy as np\n",
        "arr_2d=np.array([[1,2,3],[4,5,6]])\n",
        "new_arr=np.append(arr_2d,[[7,8,9]],axis=0)\n",
        "print(new_arr)"
      ],
      "metadata": {
        "colab": {
          "base_uri": "https://localhost:8080/"
        },
        "id": "n8qpj64ri2EX",
        "outputId": "9800ad1d-0393-4191-cb47-79d98f17b5bc"
      },
      "execution_count": null,
      "outputs": [
        {
          "output_type": "stream",
          "name": "stdout",
          "text": [
            "[[1 2 3]\n",
            " [4 5 6]\n",
            " [7 8 9]]\n"
          ]
        }
      ]
    },
    {
      "cell_type": "code",
      "source": [
        "#concatenate add two element\n",
        "\"\"\"\n",
        "np.concatenate((array1,array2,array3),axis=0)\n",
        "\n",
        "\"\"\"\n",
        "import numpy as np\n",
        "arr1=np.array([1,2,3])\n",
        "arr2=np.array([4,5,6])\n",
        "arr3=np.array([7,8,9])\n",
        "arr_con=np.concatenate((arr1,arr2,arr3))\n",
        "print(arr_con)"
      ],
      "metadata": {
        "colab": {
          "base_uri": "https://localhost:8080/"
        },
        "id": "WVlJ67YokSsL",
        "outputId": "ed3ba1e0-7b36-48f8-c190-02ed7537636f"
      },
      "execution_count": null,
      "outputs": [
        {
          "output_type": "stream",
          "name": "stdout",
          "text": [
            "[1 2 3 4 5 6 7 8 9]\n"
          ]
        }
      ]
    },
    {
      "cell_type": "code",
      "source": [
        "#removing array\n",
        "\"\"\"np.delete(array,index,axis=none)\n",
        "array-original array\n",
        "index-\n",
        "axis-\n",
        "\"\"\"\n",
        "import numpy as np\n",
        "arr_del=np.array([10,20,30,40,50,60])\n",
        "new_arr=np.delete(arr_del,2)\n",
        "print(new_arr)"
      ],
      "metadata": {
        "colab": {
          "base_uri": "https://localhost:8080/"
        },
        "id": "fxQr0SW1mFDF",
        "outputId": "34572439-c705-4d1e-9091-413cc1490741"
      },
      "execution_count": null,
      "outputs": [
        {
          "output_type": "stream",
          "name": "stdout",
          "text": [
            "[10 20 40 50 60]\n"
          ]
        }
      ]
    },
    {
      "cell_type": "code",
      "source": [
        "import numpy as np\n",
        "arr_del=np.array([[1,2,3],[4,5,6]])\n",
        "new_arr=np.delete(arr_del,1,axis=0)\n",
        "print(new_arr)"
      ],
      "metadata": {
        "colab": {
          "base_uri": "https://localhost:8080/"
        },
        "id": "DbYRnrm7m_P9",
        "outputId": "5d6c0759-3746-4275-a104-d7263fa851ef"
      },
      "execution_count": null,
      "outputs": [
        {
          "output_type": "stream",
          "name": "stdout",
          "text": [
            "[[1 2 3]]\n"
          ]
        }
      ]
    },
    {
      "cell_type": "code",
      "source": [
        "#stacking\n",
        "\"\"\"\n",
        "vstack()  vertically\n",
        "hstack()  horizontally\n",
        "column_stack()\n",
        "row_stack()\n",
        "\"\"\"\n",
        "import numpy as np\n",
        "arr1=np.array([1,2,3])\n",
        "arr2=np.array([4,5,6])\n",
        "print(np.vstack((arr1,arr2)))\n",
        "print(np.hstack((arr1,arr2)))"
      ],
      "metadata": {
        "colab": {
          "base_uri": "https://localhost:8080/"
        },
        "id": "-D8at4YSnmgd",
        "outputId": "423eace5-cd49-49a9-b73f-84e3a456cd28"
      },
      "execution_count": null,
      "outputs": [
        {
          "output_type": "stream",
          "name": "stdout",
          "text": [
            "[[1 2 3]\n",
            " [4 5 6]]\n",
            "[1 2 3 4 5 6]\n"
          ]
        }
      ]
    },
    {
      "cell_type": "code",
      "source": [
        "#spliting\n",
        "\"\"\"\n",
        "np.split(()->equal\n",
        "np.vsplit(()->\n",
        "np.hsplit(()->\n",
        "\"\"\"\n",
        "import numpy as np\n",
        "arr_spl=np.array([1,2,3,4,5,6])\n",
        "new_arr=np.split(arr_spl,3)\n",
        "print(new_arr)\n"
      ],
      "metadata": {
        "colab": {
          "base_uri": "https://localhost:8080/"
        },
        "id": "KTIPjtkzo97t",
        "outputId": "b9146294-284f-4a0f-9dfc-a2a50643c8a6"
      },
      "execution_count": null,
      "outputs": [
        {
          "output_type": "stream",
          "name": "stdout",
          "text": [
            "[array([1, 2]), array([3, 4]), array([5, 6])]\n"
          ]
        }
      ]
    },
    {
      "cell_type": "markdown",
      "source": [
        "## BROADCASTING AND VECTORIZATION"
      ],
      "metadata": {
        "id": "q2KzKGoprETY"
      }
    },
    {
      "cell_type": "code",
      "source": [
        "import numpy as np\n",
        "matrix=np.array([[1,2,3],[4,5,6]])\n",
        "vector=np.array([10,20,30])\n",
        "result=matrix+vector\n",
        "print(result)"
      ],
      "metadata": {
        "colab": {
          "base_uri": "https://localhost:8080/"
        },
        "id": "ersHDOwYzFGw",
        "outputId": "9fe7df74-c0d4-431d-eba3-ded2a410da82"
      },
      "execution_count": null,
      "outputs": [
        {
          "output_type": "stream",
          "name": "stdout",
          "text": [
            "[[11 22 33]\n",
            " [14 25 36]]\n"
          ]
        }
      ]
    },
    {
      "cell_type": "code",
      "source": [
        "#vectorization\n",
        "import numpy as np\n",
        "arrvn=np.array([[1,2,3],[4,5,6]])\n",
        "print(arrvn*2)\n",
        "print(arrvn+5)"
      ],
      "metadata": {
        "colab": {
          "base_uri": "https://localhost:8080/"
        },
        "id": "_gVCKKb64zNF",
        "outputId": "045988e9-706b-4510-aaf2-b6655b7416a9"
      },
      "execution_count": null,
      "outputs": [
        {
          "output_type": "stream",
          "name": "stdout",
          "text": [
            "[[ 2  4  6]\n",
            " [ 8 10 12]]\n",
            "[[ 6  7  8]\n",
            " [ 9 10 11]]\n"
          ]
        }
      ]
    },
    {
      "cell_type": "markdown",
      "source": [
        "HANDLING MISSING VALUES"
      ],
      "metadata": {
        "id": "0MjLJVL19d9l"
      }
    },
    {
      "cell_type": "code",
      "source": [
        "import numpy as np\n",
        "arrmis=np.array([1,2,np.nan,4,5,np.nan])\n",
        "print(np.isnan(arrmis))"
      ],
      "metadata": {
        "colab": {
          "base_uri": "https://localhost:8080/"
        },
        "id": "AfnMOf6H9jGu",
        "outputId": "ab5b40e5-631f-4ed9-b135-0feb0c5578b1"
      },
      "execution_count": null,
      "outputs": [
        {
          "output_type": "stream",
          "name": "stdout",
          "text": [
            "[False False  True False False  True]\n"
          ]
        }
      ]
    },
    {
      "cell_type": "code",
      "source": [
        "#np.nan_to_num(arr)/(arr,nan=value)\n",
        "import numpy as np\n",
        "arrmis=np.array([1,2,np.nan,4,5,np.nan])\n",
        "print(np.nan_to_num(arrmis))\n",
        "\n"
      ],
      "metadata": {
        "colab": {
          "base_uri": "https://localhost:8080/"
        },
        "id": "QsMxUCFpAMhD",
        "outputId": "9e5fbaa0-b68e-4c15-9406-015281a6b39c"
      },
      "execution_count": null,
      "outputs": [
        {
          "output_type": "stream",
          "name": "stdout",
          "text": [
            "[1. 2. 0. 4. 5. 0.]\n"
          ]
        }
      ]
    },
    {
      "cell_type": "code",
      "source": [
        "#np.isinf(arr)\n",
        "#np.nan_to_num(arr,posinf=v,neginf=v)\n",
        "import numpy as np\n",
        "arrinf=np.array([1,2,np.inf,4,-np.inf])\n",
        "print(np.isinf(arrinf))\n",
        "val_arr=np.nan_to_num(arrinf,posinf=10,neginf=-11)\n",
        "print(val_arr)"
      ],
      "metadata": {
        "colab": {
          "base_uri": "https://localhost:8080/"
        },
        "id": "OM4YwHEsCSyr",
        "outputId": "1a7d691b-da4f-4c0f-98a5-a6adbb843c8a"
      },
      "execution_count": null,
      "outputs": [
        {
          "output_type": "stream",
          "name": "stdout",
          "text": [
            "[False False  True False  True]\n",
            "[  1.   2.  10.   4. -11.]\n"
          ]
        }
      ]
    },
    {
      "cell_type": "code",
      "source": [
        "\n",
        "\n",
        "| ID | Name    | Age | Gender | Department | Salary | Join Date  | Performance Score |\n",
        "| -- | ------- | --- | ------ | ---------- | ------ | ---------- | ----------------- |\n",
        "| 1  | Alice   | 25  | F      | HR         | 50000  | 2020-01-15 | 85                |\n",
        "| 2  | Bob     | 30  | M      | IT         | 70000  | 2019-08-01 | 90                |\n",
        "| 3  | Charlie | 28  | M      | Finance    | 65000  | 2021-06-23 | 75                |\n",
        "| 4  | Diana   | 35  | F      | IT         | 72000  | 2018-11-05 | 88                |\n",
        "| 5  | Ethan   | 24  | M      | HR         | 48000  | 2022-03-12 | 70                |\n",
        "| 6  | Fiona   | 29  | F      | Finance    | 62000  | 2020-09-30 | 95                |\n",
        "| 7  | George  | 31  | M      | IT         | 71000  | 2017-04-18 | 82                |\n",
        "| 8  | Hannah  | 27  | F      | HR         | 51000  | 2019-07-09 | 77                |\n"
      ],
      "metadata": {
        "id": "fJKj11R4FJMg"
      },
      "execution_count": null,
      "outputs": []
    },
    {
      "cell_type": "code",
      "source": [],
      "metadata": {
        "id": "NsWg1rEpH2g0"
      },
      "execution_count": null,
      "outputs": []
    }
  ]
}